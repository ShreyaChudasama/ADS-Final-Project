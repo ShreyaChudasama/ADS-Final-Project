{
 "cells": [
  {
   "cell_type": "code",
   "execution_count": 1,
   "metadata": {},
   "outputs": [],
   "source": [
    "import PyPDF2\n",
    "pdfFileObj = open('UpdatedRESUME11.pdf','rb') \n",
    "pdfReader = PyPDF2.PdfFileReader(pdfFileObj)\n",
    "pdfReader.numPages\n",
    "pageObj = pdfReader.getPage(0)  \n",
    "text = pageObj.extractText()"
   ]
  },
  {
   "cell_type": "code",
   "execution_count": 2,
   "metadata": {},
   "outputs": [
    {
     "name": "stdout",
     "output_type": "stream",
     "text": [
      "[nltk_data] Downloading package brown to\n",
      "[nltk_data]     C:\\Users\\sreer\\AppData\\Roaming\\nltk_data...\n",
      "[nltk_data]   Package brown is already up-to-date!\n",
      "[nltk_data] Downloading package punkt to\n",
      "[nltk_data]     C:\\Users\\sreer\\AppData\\Roaming\\nltk_data...\n",
      "[nltk_data]   Package punkt is already up-to-date!\n"
     ]
    }
   ],
   "source": [
    "import nltk\n",
    "nltk.download('brown')\n",
    "nltk.download('punkt')\n",
    "from textblob import TextBlob\n",
    "blob = TextBlob(text)"
   ]
  },
  {
   "cell_type": "code",
   "execution_count": 3,
   "metadata": {
    "scrolled": false
   },
   "outputs": [
    {
     "name": "stdout",
     "output_type": "stream",
     "text": [
      "boston\n",
      "ma\n",
      "northeastern\n",
      "boston\n",
      "masterofscience\n",
      "database\n",
      "indore\n",
      "bachelorofengineering\n",
      "information\n",
      "coursework\n",
      "management\n",
      "nov\n",
      "designed\n",
      "object\n",
      "developing\n",
      "nov\n",
      "creating\n",
      "designed\n",
      "final\n",
      "project\n",
      "feb\n",
      "android\n",
      "android\n",
      "gui\n",
      "mysql\n",
      "java\n",
      "python\n",
      "beginner\n",
      "databases\n",
      "netbeanside\n",
      "sqlyog\n",
      "android\n",
      "html\n",
      "english\n",
      "hindi\n",
      "lead\n",
      "member\n",
      "bridges\n",
      "usa\n",
      "member\n",
      "toastmasters\n",
      "volunteer\n",
      "gramiksha\n",
      "india\n",
      "udaan\n"
     ]
    }
   ],
   "source": [
    "for k in blob.noun_phrases:\n",
    "    if(' ' not in k):\n",
    "        print(k)\n",
    "    "
   ]
  },
  {
   "cell_type": "code",
   "execution_count": 4,
   "metadata": {},
   "outputs": [
    {
     "data": {
      "text/plain": [
       "Sentiment(polarity=0.07905525846702317, subjectivity=0.2840463458110517)"
      ]
     },
     "execution_count": 4,
     "metadata": {},
     "output_type": "execute_result"
    }
   ],
   "source": [
    "blob.sentiment"
   ]
  },
  {
   "cell_type": "code",
   "execution_count": 5,
   "metadata": {},
   "outputs": [
    {
     "name": "stdout",
     "output_type": "stream",
     "text": [
      "Collecting geopy\n",
      "  Downloading geopy-1.13.0-py2.py3-none-any.whl (73kB)\n",
      "Collecting geographiclib<2,>=1.49 (from geopy)\n",
      "  Downloading geographiclib-1.49.tar.gz\n",
      "Building wheels for collected packages: geographiclib\n",
      "  Running setup.py bdist_wheel for geographiclib: started\n",
      "  Running setup.py bdist_wheel for geographiclib: finished with status 'done'\n",
      "  Stored in directory: C:\\Users\\sreer\\AppData\\Local\\pip\\Cache\\wheels\\b8\\62\\be\\6d9fad7c30605b3a876cdf509d411a64a43f3e8a99381a40dd\n",
      "Successfully built geographiclib\n",
      "Installing collected packages: geographiclib, geopy\n",
      "Successfully installed geographiclib-1.49 geopy-1.13.0\n"
     ]
    }
   ],
   "source": [
    "!pip install geopy"
   ]
  },
  {
   "cell_type": "code",
   "execution_count": 6,
   "metadata": {},
   "outputs": [],
   "source": [
    "import geopy.distance"
   ]
  },
  {
   "cell_type": "code",
   "execution_count": 7,
   "metadata": {},
   "outputs": [
    {
     "name": "stdout",
     "output_type": "stream",
     "text": [
      "7060.1065144617605 km\n"
     ]
    },
    {
     "name": "stderr",
     "output_type": "stream",
     "text": [
      "UserWarning: Latitude has been normalized, because its absolute value was more than 90. This is probably not what was meant, because the normalized value is on a different pole. If you pass coordinates as positional args, please make sure that the order is (latitude, longitude) or (y, x) in Cartesian terms.  This will cause a ValueError exception in the future versions of geopy. [point.py:85]\n"
     ]
    }
   ],
   "source": [
    "coords_1 = (7445.07118189, 4864863.99283863)\n",
    "coords_2 = (7383.867221, 4864839.74)\n",
    "print( (geopy.distance.vincenty(coords_1, coords_2)))"
   ]
  }
 ],
 "metadata": {
  "kernelspec": {
   "display_name": "Python 3",
   "language": "python",
   "name": "python3"
  },
  "language_info": {
   "codemirror_mode": {
    "name": "ipython",
    "version": 3
   },
   "file_extension": ".py",
   "mimetype": "text/x-python",
   "name": "python",
   "nbconvert_exporter": "python",
   "pygments_lexer": "ipython3",
   "version": "3.6.4"
  }
 },
 "nbformat": 4,
 "nbformat_minor": 2
}
